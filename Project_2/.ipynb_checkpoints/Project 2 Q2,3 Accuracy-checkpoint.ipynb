{
 "cells": [
  {
   "cell_type": "code",
   "execution_count": 1,
   "metadata": {},
   "outputs": [],
   "source": [
    "import numpy as np\n",
    "np.random.seed(42)\n",
    "import random\n",
    "random.seed(42)\n",
    "\n",
    "import nltk, string\n",
    "import matplotlib.pyplot as plt\n",
    "\n",
    "from sklearn.datasets import fetch_20newsgroups\n",
    "\n",
    "\n",
    "categories = ['comp.sys.ibm.pc.hardware', 'comp.graphics','comp.sys.mac.hardware', 'comp.os.ms-windows.misc','rec.autos', 'rec.motorcycles','rec.sport.baseball', 'rec.sport.hockey']\n",
    "# added remove headers and footers\n",
    "dataset = fetch_20newsgroups(subset='all', categories=categories, remove=('headers', 'footers'), shuffle=True, random_state=42)\n"
   ]
  },
  {
   "cell_type": "code",
   "execution_count": 4,
   "metadata": {},
   "outputs": [
    {
     "name": "stdout",
     "output_type": "stream",
     "text": [
      "max_df =  100   (7882, 22573)\n",
      "max_df =  300   (7882, 23309)\n",
      "max_df =  500   (7882, 23438)\n",
      "max_df =  700   (7882, 23481)\n",
      "max_df =  900   (7882, 23497)\n",
      "max_df =  1100   (7882, 23506)\n"
     ]
    }
   ],
   "source": [
    "#Question 1\n",
    "\n",
    "from sklearn.feature_extraction.text import TfidfVectorizer\n",
    "\n",
    "max_dfs = range(100, 1300, 200)\n",
    "\n",
    "for x in max_dfs:\n",
    "    tfidf_vect = TfidfVectorizer(stop_words='english',min_df=3, max_df=x)\n",
    "    X_train_tfidf = tfidf_vect.fit_transform(dataset.data) \n",
    "    print('max_df = ', x, ' ', X_train_tfidf.shape)\n",
    "    "
   ]
  },
  {
   "cell_type": "code",
   "execution_count": 13,
   "metadata": {},
   "outputs": [],
   "source": [
    "#Custom stop words\n",
    "from sklearn.feature_extraction import text\n",
    "from nltk.corpus import stopwords\n",
    "import nltk\n",
    "#nltk.download('stopwords')\n",
    "from string import punctuation\n",
    "\n",
    "stop_words_skt = text.ENGLISH_STOP_WORDS\n",
    "stop_words_en = stopwords.words('english')\n",
    "combined_stopwords = set.union(set(stop_words_en),set(stop_words_skt))"
   ]
  },
  {
   "cell_type": "code",
   "execution_count": 20,
   "metadata": {},
   "outputs": [
    {
     "name": "stdout",
     "output_type": "stream",
     "text": [
      "array([[3132,  771],\n",
      "       [  13, 3966]])\n",
      "Homogeneity score:  0.5993795768773826\n",
      "Completeness score:  0.6176408341238924\n",
      "V-measure score:  0.6083732014236275\n",
      "Adjusted Rand score:  0.64166131789866\n",
      "Adjusted mutual information score:  0.6083368094597101\n"
     ]
    }
   ],
   "source": [
    "#Question 2\n",
    "import pprint\n",
    "pp = pprint.PrettyPrinter(indent=4)\n",
    "from sklearn.cluster import KMeans\n",
    "from sklearn.metrics.cluster import contingency_matrix, homogeneity_score, v_measure_score, completeness_score, adjusted_rand_score, adjusted_mutual_info_score\n",
    "\n",
    "###################### Added max_df=500 ######################\n",
    "tfidf_vect = TfidfVectorizer(stop_words='english', min_df=3, max_df=500)\n",
    "X_train_tfidf = tfidf_vect.fit_transform(dataset.data) \n",
    "\n",
    "y_true = [int(i/4) for i in dataset.target]\n",
    "\n",
    "km = KMeans(n_clusters=2, random_state=0, max_iter=1000, n_init=30)\n",
    "y_pred = km.fit_predict(X_train_tfidf)\n",
    "con_mat = contingency_matrix(y_true,y_pred)\n",
    "pp.pprint(con_mat)\n",
    "\n",
    "print(\"Homogeneity score: \", homogeneity_score(y_true,y_pred))\n",
    "print(\"Completeness score: \",completeness_score(y_true,y_pred))\n",
    "print(\"V-measure score: \",v_measure_score(y_true,y_pred))\n",
    "print(\"Adjusted Rand score: \",adjusted_rand_score(y_true,y_pred))\n",
    "print(\"Adjusted mutual information score: \",adjusted_mutual_info_score(y_true,y_pred))"
   ]
  },
  {
   "cell_type": "code",
   "execution_count": 19,
   "metadata": {},
   "outputs": [
    {
     "name": "stdout",
     "output_type": "stream",
     "text": [
      "array([[3171,  732],\n",
      "       [  14, 3965]])\n",
      "Homogeneity score:  0.6114957858564866\n",
      "Completeness score:  0.628234793451931\n",
      "V-measure score:  0.6197522834978887\n",
      "Adjusted Rand score:  0.6572043026994028\n",
      "Adjusted mutual information score:  0.6197170012943365\n"
     ]
    }
   ],
   "source": [
    "###################### Added combined_stopwords instead of 'english' ######################\n",
    "\n",
    "\n",
    "tfidf_vect = TfidfVectorizer(stop_words=combined_stopwords, min_df=3, max_df=500)\n",
    "X_train_tfidf = tfidf_vect.fit_transform(dataset.data) \n",
    "\n",
    "y_true = [int(i/4) for i in dataset.target]\n",
    "\n",
    "km = KMeans(n_clusters=2, random_state=0, max_iter=1000, n_init=30)\n",
    "y_pred = km.fit_predict(X_train_tfidf)\n",
    "con_mat = contingency_matrix(y_true,y_pred)\n",
    "pp.pprint(con_mat)\n",
    "\n",
    "print(\"Homogeneity score: \", homogeneity_score(y_true,y_pred))\n",
    "print(\"Completeness score: \",completeness_score(y_true,y_pred))\n",
    "print(\"V-measure score: \",v_measure_score(y_true,y_pred))\n",
    "print(\"Adjusted Rand score: \",adjusted_rand_score(y_true,y_pred))\n",
    "print(\"Adjusted mutual information score: \",adjusted_mutual_info_score(y_true,y_pred))"
   ]
  },
  {
   "cell_type": "code",
   "execution_count": 22,
   "metadata": {},
   "outputs": [
    {
     "name": "stdout",
     "output_type": "stream",
     "text": [
      "array([[3634,  269],\n",
      "       [3979,    0]])\n",
      "Homogeneity score:  0.03549503601115764\n",
      "Completeness score:  0.16531999071517453\n",
      "V-measure score:  0.05844223033962738\n",
      "Adjusted Rand score:  0.005971394939181551\n",
      "Adjusted mutual information score:  0.05830005626738529\n"
     ]
    }
   ],
   "source": [
    "###################### combined_stopwords & max_df=300 ######################\n",
    "\n",
    "tfidf_vect = TfidfVectorizer(stop_words=combined_stopwords, min_df=3, max_df=300)\n",
    "X_train_tfidf = tfidf_vect.fit_transform(dataset.data) \n",
    "\n",
    "y_true = [int(i/4) for i in dataset.target]\n",
    "\n",
    "km = KMeans(n_clusters=2, random_state=0, max_iter=1000, n_init=30)\n",
    "y_pred = km.fit_predict(X_train_tfidf)\n",
    "con_mat = contingency_matrix(y_true,y_pred)\n",
    "pp.pprint(con_mat)\n",
    "\n",
    "print(\"Homogeneity score: \", homogeneity_score(y_true,y_pred))\n",
    "print(\"Completeness score: \",completeness_score(y_true,y_pred))\n",
    "print(\"V-measure score: \",v_measure_score(y_true,y_pred))\n",
    "print(\"Adjusted Rand score: \",adjusted_rand_score(y_true,y_pred))\n",
    "print(\"Adjusted mutual information score: \",adjusted_mutual_info_score(y_true,y_pred))"
   ]
  },
  {
   "cell_type": "code",
   "execution_count": 23,
   "metadata": {},
   "outputs": [
    {
     "name": "stdout",
     "output_type": "stream",
     "text": [
      "array([[ 616, 3287],\n",
      "       [3951,   28]])\n",
      "Homogeneity score:  0.6397453596391968\n",
      "Completeness score:  0.6516124267310988\n",
      "V-measure score:  0.6456243663596427\n",
      "Adjusted Rand score:  0.6998444972085943\n",
      "Adjusted mutual information score:  0.645591624788936\n"
     ]
    }
   ],
   "source": [
    "###################### combined_stopwords & max_df=700 ######################\n",
    "\n",
    "tfidf_vect = TfidfVectorizer(stop_words=combined_stopwords, min_df=3, max_df=700)\n",
    "X_train_tfidf = tfidf_vect.fit_transform(dataset.data) \n",
    "\n",
    "y_true = [int(i/4) for i in dataset.target]\n",
    "\n",
    "km = KMeans(n_clusters=2, random_state=0, max_iter=1000, n_init=30)\n",
    "y_pred = km.fit_predict(X_train_tfidf)\n",
    "con_mat = contingency_matrix(y_true,y_pred)\n",
    "pp.pprint(con_mat)\n",
    "\n",
    "print(\"Homogeneity score: \", homogeneity_score(y_true,y_pred))\n",
    "print(\"Completeness score: \",completeness_score(y_true,y_pred))\n",
    "print(\"V-measure score: \",v_measure_score(y_true,y_pred))\n",
    "print(\"Adjusted Rand score: \",adjusted_rand_score(y_true,y_pred))\n",
    "print(\"Adjusted mutual information score: \",adjusted_mutual_info_score(y_true,y_pred))"
   ]
  },
  {
   "cell_type": "code",
   "execution_count": 24,
   "metadata": {},
   "outputs": [
    {
     "name": "stdout",
     "output_type": "stream",
     "text": [
      "array([[ 601, 3302],\n",
      "       [3946,   33]])\n",
      "Homogeneity score:  0.6410847357002711\n",
      "Completeness score:  0.6522100862434727\n",
      "V-measure score:  0.6465995589962014\n",
      "Adjusted Rand score:  0.7040970263913902\n",
      "Adjusted mutual information score:  0.6465669265420472\n"
     ]
    }
   ],
   "source": [
    "###################### combined_stopwords & max_df=800 ######################\n",
    "\n",
    "tfidf_vect = TfidfVectorizer(stop_words=combined_stopwords, min_df=3, max_df=800)\n",
    "X_train_tfidf = tfidf_vect.fit_transform(dataset.data) \n",
    "\n",
    "y_true = [int(i/4) for i in dataset.target]\n",
    "\n",
    "km = KMeans(n_clusters=2, random_state=0, max_iter=1000, n_init=30)\n",
    "y_pred = km.fit_predict(X_train_tfidf)\n",
    "con_mat = contingency_matrix(y_true,y_pred)\n",
    "pp.pprint(con_mat)\n",
    "\n",
    "print(\"Homogeneity score: \", homogeneity_score(y_true,y_pred))\n",
    "print(\"Completeness score: \",completeness_score(y_true,y_pred))\n",
    "print(\"V-measure score: \",v_measure_score(y_true,y_pred))\n",
    "print(\"Adjusted Rand score: \",adjusted_rand_score(y_true,y_pred))\n",
    "print(\"Adjusted mutual information score: \",adjusted_mutual_info_score(y_true,y_pred))\n",
    "\n",
    "###################### BEST SCORES ######################\n"
   ]
  },
  {
   "cell_type": "code",
   "execution_count": 25,
   "metadata": {},
   "outputs": [
    {
     "name": "stdout",
     "output_type": "stream",
     "text": [
      "array([[ 855, 3048],\n",
      "       [3967,   12]])\n",
      "Homogeneity score:  0.5731736628163333\n",
      "Completeness score:  0.5947573899996839\n",
      "V-measure score:  0.5837660894301141\n",
      "Adjusted Rand score:  0.6083588906174414\n",
      "Adjusted mutual information score:  0.5837272782988524\n"
     ]
    }
   ],
   "source": [
    "###################### combined_stopwords & max_df=900 ######################\n",
    "\n",
    "tfidf_vect = TfidfVectorizer(stop_words=combined_stopwords, min_df=3, max_df=900)\n",
    "X_train_tfidf = tfidf_vect.fit_transform(dataset.data) \n",
    "\n",
    "y_true = [int(i/4) for i in dataset.target]\n",
    "\n",
    "km = KMeans(n_clusters=2, random_state=0, max_iter=1000, n_init=30)\n",
    "y_pred = km.fit_predict(X_train_tfidf)\n",
    "con_mat = contingency_matrix(y_true,y_pred)\n",
    "pp.pprint(con_mat)\n",
    "\n",
    "print(\"Homogeneity score: \", homogeneity_score(y_true,y_pred))\n",
    "print(\"Completeness score: \",completeness_score(y_true,y_pred))\n",
    "print(\"V-measure score: \",v_measure_score(y_true,y_pred))\n",
    "print(\"Adjusted Rand score: \",adjusted_rand_score(y_true,y_pred))\n",
    "print(\"Adjusted mutual information score: \",adjusted_mutual_info_score(y_true,y_pred))"
   ]
  },
  {
   "cell_type": "code",
   "execution_count": 21,
   "metadata": {},
   "outputs": [
    {
     "name": "stdout",
     "output_type": "stream",
     "text": [
      "array([[3138,  765],\n",
      "       [  17, 3962]])\n",
      "Homogeneity score:  0.597583736687478\n",
      "Completeness score:  0.6153179590564624\n",
      "V-measure score:  0.6063211990124888\n",
      "Adjusted Rand score:  0.6424747234997527\n",
      "Adjusted mutual information score:  0.6062846302021816\n"
     ]
    }
   ],
   "source": [
    "###################### combined_stopwords & max_df=1000 ######################\n",
    "\n",
    "tfidf_vect = TfidfVectorizer(stop_words=combined_stopwords, min_df=3, max_df=1000)\n",
    "X_train_tfidf = tfidf_vect.fit_transform(dataset.data) \n",
    "\n",
    "y_true = [int(i/4) for i in dataset.target]\n",
    "\n",
    "km = KMeans(n_clusters=2, random_state=0, max_iter=1000, n_init=30)\n",
    "y_pred = km.fit_predict(X_train_tfidf)\n",
    "con_mat = contingency_matrix(y_true,y_pred)\n",
    "pp.pprint(con_mat)\n",
    "\n",
    "print(\"Homogeneity score: \", homogeneity_score(y_true,y_pred))\n",
    "print(\"Completeness score: \",completeness_score(y_true,y_pred))\n",
    "print(\"V-measure score: \",v_measure_score(y_true,y_pred))\n",
    "print(\"Adjusted Rand score: \",adjusted_rand_score(y_true,y_pred))\n",
    "print(\"Adjusted mutual information score: \",adjusted_mutual_info_score(y_true,y_pred))"
   ]
  }
 ],
 "metadata": {
  "kernelspec": {
   "display_name": "Python 3",
   "language": "python",
   "name": "python3"
  },
  "language_info": {
   "codemirror_mode": {
    "name": "ipython",
    "version": 3
   },
   "file_extension": ".py",
   "mimetype": "text/x-python",
   "name": "python",
   "nbconvert_exporter": "python",
   "pygments_lexer": "ipython3",
   "version": "3.8.5"
  }
 },
 "nbformat": 4,
 "nbformat_minor": 4
}
