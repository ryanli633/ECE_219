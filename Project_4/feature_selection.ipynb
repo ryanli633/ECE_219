{
 "cells": [
  {
   "cell_type": "code",
   "execution_count": 1,
   "metadata": {},
   "outputs": [
    {
     "name": "stdout",
     "output_type": "stream",
     "text": [
      "\n",
      "Number of rows and columns in the data set:  (27820, 17)\n"
     ]
    }
   ],
   "source": [
    "import pandas as pd\n",
    "\n",
    "#importing encoded, transformed and standardized Suicide data\n",
    "\n",
    "path = './'\n",
    "data = pd.read_csv(path+'std_ft_df.csv')\n",
    "print('\\nNumber of rows and columns in the data set: ',data.shape)"
   ]
  },
  {
   "cell_type": "code",
   "execution_count": 5,
   "metadata": {},
   "outputs": [],
   "source": [
    "#X/y Split\n",
    "X = data.drop('suicides/100k pop',axis=1).copy() # Independet variable\n",
    "y = data['suicides/100k pop'].copy() # dependent variable\n",
    "\n",
    "X = X.to_numpy()\n",
    "y = y.to_numpy()"
   ]
  },
  {
   "cell_type": "code",
   "execution_count": 6,
   "metadata": {},
   "outputs": [
    {
     "name": "stdout",
     "output_type": "stream",
     "text": [
      "Automatically created module for IPython interactive environment\n"
     ]
    }
   ],
   "source": [
    "print(__doc__)\n",
    "\n",
    "import numpy as np\n",
    "import matplotlib.pyplot as plt\n",
    "from sklearn.feature_selection import f_regression, mutual_info_regression\n",
    "\n",
    "#np.random.seed(0)\n",
    "#X = np.random.rand(1000, 3)\n",
    "#y = X[:, 0] + np.sin(6 * np.pi * X[:, 1]) + 0.1 * np.random.randn(1000)\n",
    "\n",
    "f_test, _ = f_regression(X, y)\n",
    "f_test /= np.max(f_test)\n",
    "\n",
    "mi = mutual_info_regression(X, y)\n",
    "mi /= np.max(mi)\n",
    "\n",
    "#plt.figure(figsize=(15, 5))\n",
    "#for i in range(3):\n",
    "#    plt.subplot(1, 3, i + 1)\n",
    "#    plt.scatter(X[:, i], y, edgecolor='black', s=20)\n",
    "#    #plt.xlabel(\"$x_{}$\".format(i + 1), fontsize=14)\n",
    "#    plt.xlabel(std_ft_df.columns[i], fontsize=14)\n",
    "#\n",
    "#    if i == 0:\n",
    "#        plt.ylabel(\"$y$\", fontsize=14)\n",
    "#    plt.title(\"F-test={:.2f}, MI={:.2f}\".format(f_test[i], mi[i]),\n",
    "#              fontsize=16)\n",
    "#plt.show()"
   ]
  },
  {
   "cell_type": "code",
   "execution_count": 11,
   "metadata": {},
   "outputs": [
    {
     "data": {
      "text/html": [
       "<div>\n",
       "<style scoped>\n",
       "    .dataframe tbody tr th:only-of-type {\n",
       "        vertical-align: middle;\n",
       "    }\n",
       "\n",
       "    .dataframe tbody tr th {\n",
       "        vertical-align: top;\n",
       "    }\n",
       "\n",
       "    .dataframe thead th {\n",
       "        text-align: right;\n",
       "    }\n",
       "</style>\n",
       "<table border=\"1\" class=\"dataframe\">\n",
       "  <thead>\n",
       "    <tr style=\"text-align: right;\">\n",
       "      <th></th>\n",
       "      <th>feature</th>\n",
       "      <th>MI</th>\n",
       "      <th>f_test</th>\n",
       "    </tr>\n",
       "  </thead>\n",
       "  <tbody>\n",
       "  </tbody>\n",
       "</table>\n",
       "</div>"
      ],
      "text/plain": [
       "Empty DataFrame\n",
       "Columns: [feature, MI, f_test]\n",
       "Index: []"
      ]
     },
     "execution_count": 11,
     "metadata": {},
     "output_type": "execute_result"
    }
   ],
   "source": [
    "mift_df=pd.DataFrame(columns=['feature', 'MI', 'f_test'])\n",
    "mift_df.head()"
   ]
  },
  {
   "cell_type": "code",
   "execution_count": 4,
   "metadata": {},
   "outputs": [
    {
     "data": {
      "text/plain": [
       "['yr_bc_std',\n",
       " 'gdpc_bc_std',\n",
       " 'gdpyr_bc_std',\n",
       " 'age_std',\n",
       " 'pop_bc_std',\n",
       " 'continent_Asia',\n",
       " 'continent_Europe',\n",
       " 'continent_North America',\n",
       " 'continent_Oceania',\n",
       " 'continent_South America',\n",
       " 'sex_male',\n",
       " 'generation_G.I. Generation',\n",
       " 'generation_Generation X',\n",
       " 'generation_Generation Z',\n",
       " 'generation_Millenials',\n",
       " 'generation_Silent',\n",
       " 'suicides/100k pop']"
      ]
     },
     "execution_count": 4,
     "metadata": {},
     "output_type": "execute_result"
    }
   ],
   "source": [
    "columns=list(data.columns)\n",
    "columns"
   ]
  },
  {
   "cell_type": "code",
   "execution_count": 16,
   "metadata": {},
   "outputs": [
    {
     "data": {
      "text/html": [
       "<div>\n",
       "<style scoped>\n",
       "    .dataframe tbody tr th:only-of-type {\n",
       "        vertical-align: middle;\n",
       "    }\n",
       "\n",
       "    .dataframe tbody tr th {\n",
       "        vertical-align: top;\n",
       "    }\n",
       "\n",
       "    .dataframe thead th {\n",
       "        text-align: right;\n",
       "    }\n",
       "</style>\n",
       "<table border=\"1\" class=\"dataframe\">\n",
       "  <thead>\n",
       "    <tr style=\"text-align: right;\">\n",
       "      <th></th>\n",
       "      <th>feature</th>\n",
       "      <th>MI</th>\n",
       "      <th>f_test</th>\n",
       "      <th>pval</th>\n",
       "    </tr>\n",
       "  </thead>\n",
       "  <tbody>\n",
       "    <tr>\n",
       "      <th>0</th>\n",
       "      <td>yr_bc_std</td>\n",
       "      <td>0.401521</td>\n",
       "      <td>0.836234</td>\n",
       "      <td>0.000000e+00</td>\n",
       "    </tr>\n",
       "    <tr>\n",
       "      <th>1</th>\n",
       "      <td>sex_male</td>\n",
       "      <td>0.196704</td>\n",
       "      <td>1</td>\n",
       "      <td>0.000000e+00</td>\n",
       "    </tr>\n",
       "    <tr>\n",
       "      <th>2</th>\n",
       "      <td>generation_Millenials</td>\n",
       "      <td>0.0654489</td>\n",
       "      <td>0.235347</td>\n",
       "      <td>2.338111e-254</td>\n",
       "    </tr>\n",
       "    <tr>\n",
       "      <th>3</th>\n",
       "      <td>generation_G.I. Generation</td>\n",
       "      <td>0.0287552</td>\n",
       "      <td>0.216466</td>\n",
       "      <td>1.661602e-234</td>\n",
       "    </tr>\n",
       "    <tr>\n",
       "      <th>4</th>\n",
       "      <td>generation_Silent</td>\n",
       "      <td>0.0526353</td>\n",
       "      <td>0.146872</td>\n",
       "      <td>9.468086e-161</td>\n",
       "    </tr>\n",
       "    <tr>\n",
       "      <th>5</th>\n",
       "      <td>generation_Generation Z</td>\n",
       "      <td>0.0786892</td>\n",
       "      <td>0.130033</td>\n",
       "      <td>9.213587e-143</td>\n",
       "    </tr>\n",
       "    <tr>\n",
       "      <th>6</th>\n",
       "      <td>continent_North America</td>\n",
       "      <td>0.0621917</td>\n",
       "      <td>0.125146</td>\n",
       "      <td>1.565823e-137</td>\n",
       "    </tr>\n",
       "    <tr>\n",
       "      <th>7</th>\n",
       "      <td>continent_Europe</td>\n",
       "      <td>0.0281194</td>\n",
       "      <td>0.103733</td>\n",
       "      <td>1.488983e-114</td>\n",
       "    </tr>\n",
       "    <tr>\n",
       "      <th>8</th>\n",
       "      <td>pop_bc_std</td>\n",
       "      <td>0.354848</td>\n",
       "      <td>0.0501779</td>\n",
       "      <td>1.209421e-56</td>\n",
       "    </tr>\n",
       "    <tr>\n",
       "      <th>9</th>\n",
       "      <td>generation_Generation X</td>\n",
       "      <td>0.00958127</td>\n",
       "      <td>0.0235718</td>\n",
       "      <td>1.389462e-27</td>\n",
       "    </tr>\n",
       "    <tr>\n",
       "      <th>10</th>\n",
       "      <td>gdpyr_bc_std</td>\n",
       "      <td>1</td>\n",
       "      <td>0.00948004</td>\n",
       "      <td>4.981425e-12</td>\n",
       "    </tr>\n",
       "    <tr>\n",
       "      <th>11</th>\n",
       "      <td>gdpc_bc_std</td>\n",
       "      <td>0</td>\n",
       "      <td>0.00928379</td>\n",
       "      <td>8.240090e-12</td>\n",
       "    </tr>\n",
       "    <tr>\n",
       "      <th>12</th>\n",
       "      <td>continent_South America</td>\n",
       "      <td>0.0242118</td>\n",
       "      <td>0.00378707</td>\n",
       "      <td>1.264957e-05</td>\n",
       "    </tr>\n",
       "    <tr>\n",
       "      <th>13</th>\n",
       "      <td>continent_Oceania</td>\n",
       "      <td>0.00524292</td>\n",
       "      <td>0.00087531</td>\n",
       "      <td>3.578899e-02</td>\n",
       "    </tr>\n",
       "    <tr>\n",
       "      <th>14</th>\n",
       "      <td>age_std</td>\n",
       "      <td>0.287515</td>\n",
       "      <td>0.000770074</td>\n",
       "      <td>4.894289e-02</td>\n",
       "    </tr>\n",
       "    <tr>\n",
       "      <th>15</th>\n",
       "      <td>continent_Asia</td>\n",
       "      <td>0.00760185</td>\n",
       "      <td>0.000261571</td>\n",
       "      <td>2.511194e-01</td>\n",
       "    </tr>\n",
       "  </tbody>\n",
       "</table>\n",
       "</div>"
      ],
      "text/plain": [
       "                       feature          MI       f_test           pval\n",
       "0                    yr_bc_std    0.401521     0.836234   0.000000e+00\n",
       "1                     sex_male    0.196704            1   0.000000e+00\n",
       "2        generation_Millenials   0.0654489     0.235347  2.338111e-254\n",
       "3   generation_G.I. Generation   0.0287552     0.216466  1.661602e-234\n",
       "4            generation_Silent   0.0526353     0.146872  9.468086e-161\n",
       "5      generation_Generation Z   0.0786892     0.130033  9.213587e-143\n",
       "6      continent_North America   0.0621917     0.125146  1.565823e-137\n",
       "7             continent_Europe   0.0281194     0.103733  1.488983e-114\n",
       "8                   pop_bc_std    0.354848    0.0501779   1.209421e-56\n",
       "9      generation_Generation X  0.00958127    0.0235718   1.389462e-27\n",
       "10                gdpyr_bc_std           1   0.00948004   4.981425e-12\n",
       "11                 gdpc_bc_std           0   0.00928379   8.240090e-12\n",
       "12     continent_South America   0.0242118   0.00378707   1.264957e-05\n",
       "13           continent_Oceania  0.00524292   0.00087531   3.578899e-02\n",
       "14                     age_std    0.287515  0.000770074   4.894289e-02\n",
       "15              continent_Asia  0.00760185  0.000261571   2.511194e-01"
      ]
     },
     "execution_count": 16,
     "metadata": {},
     "output_type": "execute_result"
    }
   ],
   "source": [
    "#mift_df.drop(mift_df.columns)\n",
    "\n",
    "for i in range(16):\n",
    "    mift_df.loc[i,'feature']=columns[i]\n",
    "    mift_df.loc[i,'MI']=mi[i]\n",
    "    mift_df.loc[i,'f_test']=f_test[i]\n",
    "    mift_df.loc[i,'pval']=_[i]\n",
    "    \n",
    "    \n",
    "mift_df.sort_values('pval', ignore_index=True)"
   ]
  },
  {
   "cell_type": "code",
   "execution_count": null,
   "metadata": {},
   "outputs": [],
   "source": []
  }
 ],
 "metadata": {
  "kernelspec": {
   "display_name": "Python 3",
   "language": "python",
   "name": "python3"
  },
  "language_info": {
   "codemirror_mode": {
    "name": "ipython",
    "version": 3
   },
   "file_extension": ".py",
   "mimetype": "text/x-python",
   "name": "python",
   "nbconvert_exporter": "python",
   "pygments_lexer": "ipython3",
   "version": "3.8.5"
  }
 },
 "nbformat": 4,
 "nbformat_minor": 4
}
