{
 "cells": [
  {
   "cell_type": "code",
   "execution_count": 2,
   "id": "0a5cdb4b",
   "metadata": {},
   "outputs": [
    {
     "name": "stderr",
     "output_type": "stream",
     "text": [
      "[nltk_data] Downloading package stopwords to\n",
      "[nltk_data]     /Users/ryanli/nltk_data...\n",
      "[nltk_data]   Package stopwords is already up-to-date!\n",
      "[nltk_data] Downloading package wordnet to /Users/ryanli/nltk_data...\n",
      "[nltk_data]   Package wordnet is already up-to-date!\n",
      "[nltk_data] Downloading package punkt to /Users/ryanli/nltk_data...\n",
      "[nltk_data]   Package punkt is already up-to-date!\n",
      "[nltk_data] Downloading package averaged_perceptron_tagger to\n",
      "[nltk_data]     /Users/ryanli/nltk_data...\n",
      "[nltk_data]   Package averaged_perceptron_tagger is already up-to-\n",
      "[nltk_data]       date!\n"
     ]
    }
   ],
   "source": [
    "import sys\n",
    "import numpy as np\n",
    "np.random.seed(42)\n",
    "import random\n",
    "random.seed(42)\n",
    "\n",
    "import matplotlib.pyplot as plt\n",
    "import pandas as pd\n",
    "\n",
    "from sklearn.feature_extraction import text\n",
    "from sklearn.feature_extraction.text import CountVectorizer\n",
    "from sklearn.feature_extraction.text import TfidfTransformer\n",
    "from sklearn.decomposition import TruncatedSVD\n",
    "from sklearn.decomposition import NMF\n",
    "from sklearn.utils.extmath import randomized_svd\n",
    "from sklearn.metrics import confusion_matrix, accuracy_score, recall_score, precision_score, f1_score, roc_curve, auc\n",
    "from sklearn.svm import LinearSVC\n",
    "from sklearn.svm import SVC\n",
    "from sklearn.naive_bayes import GaussianNB\n",
    "from sklearn.base import BaseEstimator, TransformerMixin\n",
    "from sklearn.model_selection import GridSearchCV\n",
    "from sklearn.pipeline import Pipeline\n",
    "\n",
    "import nltk\n",
    "nltk.download('stopwords')\n",
    "nltk.download('wordnet')\n",
    "nltk.download('punkt')\n",
    "nltk.download('averaged_perceptron_tagger')\n",
    "from nltk import pos_tag\n",
    "from nltk.corpus import stopwords\n",
    "from nltk.corpus import wordnet\n",
    "from nltk.stem import WordNetLemmatizer\n",
    "\n",
    "import string\n",
    "from string import punctuation\n",
    "\n",
    "import itertools"
   ]
  },
  {
   "cell_type": "markdown",
   "id": "6bfb6260",
   "metadata": {},
   "source": [
    "# Data Preprocessing (Q2, Q3)"
   ]
  },
  {
   "cell_type": "code",
   "execution_count": 3,
   "id": "badaa2ab",
   "metadata": {},
   "outputs": [],
   "source": [
    "from sklearn.datasets import fetch_20newsgroups\n",
    "categories=['comp.graphics', 'comp.os.ms-windows.misc',\n",
    "'comp.sys.ibm.pc.hardware', 'comp.sys.mac.hardware',\n",
    "'rec.autos', 'rec.motorcycles',\n",
    "'rec.sport.baseball', 'rec.sport.hockey']\n",
    "\n",
    "train_dataset = fetch_20newsgroups(subset = 'train',\n",
    "                                   categories = categories,\n",
    "                                   shuffle = True,\n",
    "                                   random_state = None)\n",
    "test_dataset = fetch_20newsgroups(subset = 'test',\n",
    "                                 categories = categories,\n",
    "                                 shuffle = True,\n",
    "                                 random_state = None)\n",
    "\n",
    "# stop words\n",
    "stop_words_skt = text.ENGLISH_STOP_WORDS\n",
    "stop_words_en = stopwords.words('english')\n",
    "combined_stopwords = set.union(set(stop_words_en),set(punctuation),set(stop_words_skt))\n",
    "\n",
    "#Build CountVectorizer analyzer\n",
    "analyzer = CountVectorizer(min_df=3, stop_words=combined_stopwords).build_analyzer()\n",
    "vectorize = CountVectorizer(min_df=3, stop_words=combined_stopwords)"
   ]
  },
  {
   "cell_type": "code",
   "execution_count": 4,
   "id": "815eb7f0",
   "metadata": {},
   "outputs": [],
   "source": [
    "#check if term is a number\n",
    "def number_term(t):\n",
    "    try:\n",
    "        float(t)\n",
    "        return True\n",
    "    except ValueError:\n",
    "        return False\n",
    "    \n",
    "#morphing penn treebank tags to WordNet\n",
    "def penn_to_wordnet(ptag):\n",
    "    tags = {'JJ':'a',\n",
    "           'NN':'n',\n",
    "           'VB':'v',\n",
    "           'RB':'r'}\n",
    "    try:\n",
    "        return tags[ptag[:2]]\n",
    "    except:\n",
    "        return 'n'\n",
    "    \n",
    "#lemmatize single document\n",
    "def lemfxn(doc):\n",
    "    wnlem = nltk.wordnet.WordNetLemmatizer()\n",
    "    lemmatize = []\n",
    "    for word, tag in pos_tag(nltk.word_tokenize(doc)):\n",
    "        if(not number_term(word)):  #removing number terms\n",
    "#            if(word not in string.punctuation):  #removing puctuations\n",
    "            lemmword = wnlem.lemmatize(word.lower(), pos=penn_to_wordnet(tag))\n",
    "            if (lemmword.isalpha()): lemmatize.append(lemmword) \n",
    "    lem_output= ' '.join(lemmatize)\n",
    "    return lem_output\n",
    "\n",
    "#lemmatize set of docs\n",
    "def lemmdata(doc):\n",
    "    lemlist=[]\n",
    "    for d in doc:\n",
    "        lemdoc=lemfxn(d)  #lemm function\n",
    "        lemlist.append(lemdoc)  #build lemmatized doc list\n",
    "    return lemlist"
   ]
  },
  {
   "cell_type": "code",
   "execution_count": 5,
   "id": "54a7eccf",
   "metadata": {},
   "outputs": [],
   "source": [
    "#vectorize lemmatized documents\n",
    "lemvectrain=vectorize.fit_transform(lemmdata(train_dataset.data))\n",
    "lemvectest=vectorize.transform(lemmdata(test_dataset.data))\n",
    "\n",
    "#applying the tf-idf transformer to both datasets\n",
    "tfidf_transformer = TfidfTransformer()\n",
    "\n",
    "train_tfidf = tfidf_transformer.fit_transform(lemvectrain)\n",
    "test_tfidf = tfidf_transformer.transform(lemvectest)"
   ]
  },
  {
   "cell_type": "code",
   "execution_count": 7,
   "id": "21dedcf8",
   "metadata": {},
   "outputs": [],
   "source": [
    "#LSI\n",
    "svd = TruncatedSVD(n_components=50, random_state=42)\n",
    "X_train_LSI = svd.fit_transform(train_tfidf)\n",
    "X_test_LSI = svd.transform(test_tfidf)\n",
    "U,S,Vt = randomized_svd(train_tfidf, n_components=50, random_state = 42) #left/right singular matrices & singular values\n",
    "SIG = np.diag(S)\n",
    "lsi_opt = np.sum(np.array(train_tfidf - U.dot(SIG).dot(Vt))**2)  #||X-U_k*SIG_k*V^T_k||^2_F\n",
    "\n",
    "# Our final targets are in 2 categories: \"Computer Technology\" and \"Recreational Activity\"\n",
    "# Convert 8 imported categories into 2 categories\n",
    "y_train = [int(i/4) for i in train_dataset.target] \n",
    "y_test = [int(i/4) for i in test_dataset.target] "
   ]
  },
  {
   "cell_type": "markdown",
   "id": "33046744",
   "metadata": {},
   "source": [
    "# Question 6: Gaussian Naive Bayes"
   ]
  },
  {
   "cell_type": "code",
   "execution_count": 10,
   "id": "97aa1f1f",
   "metadata": {},
   "outputs": [],
   "source": [
    "def print_classifier_metrics(y_test,y_pred,name=\"\",average='binary'):\n",
    "    print(\"Accuracy score for %s: %f\" %(name,accuracy_score(y_test,y_pred)))\n",
    "    print(\"Recall score for %s: %f\" % (name,recall_score(y_test,y_pred,average=average)))\n",
    "    print(\"Precision score for %s: %f\" % (name,precision_score(y_test,y_pred,average=average)))\n",
    "    print(\"F-1 score for %s: %f\" % (name,f1_score(y_test,y_pred,average=average)))\n",
    "\n",
    "def plot_roc(fpr, tpr):\n",
    "    fig, ax = plt.subplots()\n",
    "\n",
    "    roc_auc = auc(fpr,tpr)\n",
    "\n",
    "    ax.plot(fpr, tpr, lw=2, label= 'area under curve = %0.4f' % roc_auc)\n",
    "\n",
    "    ax.grid(color='0.7', linestyle='--', linewidth=1)\n",
    "\n",
    "    ax.set_xlim([-0.1, 1.1])\n",
    "    ax.set_ylim([0.0, 1.05])\n",
    "    ax.set_xlabel('False Positive Rate',fontsize=15)\n",
    "    ax.set_ylabel('True Positive Rate',fontsize=15)\n",
    "\n",
    "    ax.legend(loc=\"lower right\")\n",
    "\n",
    "    for label in ax.get_xticklabels()+ax.get_yticklabels():\n",
    "        label.set_fontsize(15)"
   ]
  },
  {
   "cell_type": "code",
   "execution_count": 11,
   "id": "a7c85e72",
   "metadata": {},
   "outputs": [
    {
     "name": "stdout",
     "output_type": "stream",
     "text": [
      "Accuracy score for Gaussian Naive Bayes: 0.853016\n",
      "Recall score for Gaussian Naive Bayes: 0.977358\n",
      "Precision score for Gaussian Naive Bayes: 0.784452\n",
      "F-1 score for Gaussian Naive Bayes: 0.870344\n"
     ]
    }
   ],
   "source": [
    "GNB = GaussianNB()\n",
    "y_pred_GNB = GNB.fit(X_train_LSI, y_train).predict(X_test_LSI)\n",
    "print_classifier_metrics(y_test, y_pred_GNB, name=\"Gaussian Naive Bayes\")"
   ]
  },
  {
   "cell_type": "code",
   "execution_count": 12,
   "id": "80d55023",
   "metadata": {},
   "outputs": [
    {
     "name": "stdout",
     "output_type": "stream",
     "text": [
      "Confusion matrix, without normalization\n",
      "[[1133  427]\n",
      " [  36 1554]]\n",
      "Normalized confusion matrix\n",
      "[[0.72628205 0.27371795]\n",
      " [0.02264151 0.97735849]]\n"
     ]
    },
    {
     "data": {
      "image/png": "[encoded data removed]",
      "text/plain": [
       "<Figure size 432x288 with 2 Axes>"
      ]
     },
     "metadata": {
      "needs_background": "light"
     },
     "output_type": "display_data"
    },
    {
     "data": {
      "image/png": "[encoded data removed]",
      "text/plain": [
       "<Figure size 432x288 with 2 Axes>"
      ]
     },
     "metadata": {
      "needs_background": "light"
     },
     "output_type": "display_data"
    }
   ],
   "source": [
    "from sklearn.metrics import plot_confusion_matrix\n",
    "\n",
    "class_names = ['Computer Technology', 'Recreation Activity']\n",
    "classifier = GNB\n",
    "# Plot non-normalized confusion matrix\n",
    "titles_options = [(\"Confusion matrix, without normalization\", None),\n",
    "                  (\"Normalized confusion matrix\", 'true')]\n",
    "for title, normalize in titles_options:\n",
    "    disp = plot_confusion_matrix(classifier, X_test_LSI, y_test,\n",
    "                                 display_labels=class_names,\n",
    "                                 cmap=plt.cm.Blues,\n",
    "                                 normalize=normalize)\n",
    "    disp.ax_.set_title(title)\n",
    "\n",
    "    print(title)\n",
    "    print(disp.confusion_matrix)\n",
    "\n",
    "plt.show()"
   ]
  },
  {
   "cell_type": "code",
   "execution_count": 14,
   "id": "b792d5c6",
   "metadata": {},
   "outputs": [
    {
     "data": {
      "image/png": "[encoded data removed]",
      "text/plain": [
       "<Figure size 432x288 with 1 Axes>"
      ]
     },
     "metadata": {
      "needs_background": "light"
     },
     "output_type": "display_data"
    }
   ],
   "source": [
    "y_score = GNB.predict_proba(X_test_LSI)\n",
    "fpr, tpr, thresholds = roc_curve(y_test, y_score[:,1])\n",
    "plot_roc(fpr, tpr)"
   ]
  },
  {
   "cell_type": "code",
   "execution_count": null,
   "id": "75408937",
   "metadata": {},
   "outputs": [],
   "source": []
  }
 ],
 "metadata": {
  "kernelspec": {
   "display_name": "Python 3",
   "language": "python",
   "name": "python3"
  },
  "language_info": {
   "codemirror_mode": {
    "name": "ipython",
    "version": 3
   },
   "file_extension": ".py",
   "mimetype": "text/x-python",
   "name": "python",
   "nbconvert_exporter": "python",
   "pygments_lexer": "ipython3",
   "version": "3.6.13"
  }
 },
 "nbformat": 4,
 "nbformat_minor": 5
}
